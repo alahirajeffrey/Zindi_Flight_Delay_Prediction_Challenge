{
 "cells": [
  {
   "cell_type": "markdown",
   "metadata": {},
   "source": [
    "## Flight Delay Prediction Challenge\n",
    "\n",
    "**Variable definitions**\n",
    "- DATOP - Date of flight\n",
    "- FLTID - Flight number\n",
    "- DEPSTN - Departure point\n",
    "- ARRSTN - Arrival point\n",
    "- STD - Scheduled Time departure\n",
    "- STA - Scheduled Time arrival\n",
    "- STATUS - Flight status\n",
    "- ETD - Expected Time departure\n",
    "- ETA - Expected Time arrival\n",
    "- ATD - Actual Time of Departure\n",
    "- ATA - Actual Time of arrival\n",
    "- DELAY1 - Delay code 1\n",
    "- DUR1 - delay time 1\n",
    "- DELAY2 - Delay code 2\n",
    "- DUR2 - delay time 2\n",
    "- DELAY3 - Delay code 3\n",
    "- DUR3 - delay time 3\n",
    "- DELAY4 - Delay code 4\n",
    "- DUR4 - delay time 4\n",
    "- AC - Aircraft Code"
   ]
  },
  {
   "cell_type": "code",
   "execution_count": 50,
   "metadata": {},
   "outputs": [],
   "source": [
    "import pandas as pd\n",
    "\n",
    "import warnings\n",
    "warnings.filterwarnings('ignore')"
   ]
  },
  {
   "cell_type": "markdown",
   "metadata": {},
   "source": [
    "**Data Cleaning and Feature Engineering**"
   ]
  },
  {
   "cell_type": "code",
   "execution_count": 2,
   "metadata": {},
   "outputs": [
    {
     "data": {
      "text/html": [
       "<div>\n",
       "<style scoped>\n",
       "    .dataframe tbody tr th:only-of-type {\n",
       "        vertical-align: middle;\n",
       "    }\n",
       "\n",
       "    .dataframe tbody tr th {\n",
       "        vertical-align: top;\n",
       "    }\n",
       "\n",
       "    .dataframe thead th {\n",
       "        text-align: right;\n",
       "    }\n",
       "</style>\n",
       "<table border=\"1\" class=\"dataframe\">\n",
       "  <thead>\n",
       "    <tr style=\"text-align: right;\">\n",
       "      <th></th>\n",
       "      <th>ID</th>\n",
       "      <th>DATOP</th>\n",
       "      <th>FLTID</th>\n",
       "      <th>DEPSTN</th>\n",
       "      <th>ARRSTN</th>\n",
       "      <th>STD</th>\n",
       "      <th>STA</th>\n",
       "      <th>STATUS</th>\n",
       "      <th>AC</th>\n",
       "      <th>target</th>\n",
       "    </tr>\n",
       "  </thead>\n",
       "  <tbody>\n",
       "    <tr>\n",
       "      <th>0</th>\n",
       "      <td>train_id_0</td>\n",
       "      <td>2016-01-03</td>\n",
       "      <td>TU 0712</td>\n",
       "      <td>CMN</td>\n",
       "      <td>TUN</td>\n",
       "      <td>2016-01-03 10:30:00</td>\n",
       "      <td>2016-01-03 12.55.00</td>\n",
       "      <td>ATA</td>\n",
       "      <td>TU 32AIMN</td>\n",
       "      <td>260.0</td>\n",
       "    </tr>\n",
       "    <tr>\n",
       "      <th>1</th>\n",
       "      <td>train_id_1</td>\n",
       "      <td>2016-01-13</td>\n",
       "      <td>TU 0757</td>\n",
       "      <td>MXP</td>\n",
       "      <td>TUN</td>\n",
       "      <td>2016-01-13 15:05:00</td>\n",
       "      <td>2016-01-13 16.55.00</td>\n",
       "      <td>ATA</td>\n",
       "      <td>TU 31BIMO</td>\n",
       "      <td>20.0</td>\n",
       "    </tr>\n",
       "    <tr>\n",
       "      <th>2</th>\n",
       "      <td>train_id_2</td>\n",
       "      <td>2016-01-16</td>\n",
       "      <td>TU 0214</td>\n",
       "      <td>TUN</td>\n",
       "      <td>IST</td>\n",
       "      <td>2016-01-16 04:10:00</td>\n",
       "      <td>2016-01-16 06.45.00</td>\n",
       "      <td>ATA</td>\n",
       "      <td>TU 32AIMN</td>\n",
       "      <td>0.0</td>\n",
       "    </tr>\n",
       "    <tr>\n",
       "      <th>3</th>\n",
       "      <td>train_id_3</td>\n",
       "      <td>2016-01-17</td>\n",
       "      <td>TU 0480</td>\n",
       "      <td>DJE</td>\n",
       "      <td>NTE</td>\n",
       "      <td>2016-01-17 14:10:00</td>\n",
       "      <td>2016-01-17 17.00.00</td>\n",
       "      <td>ATA</td>\n",
       "      <td>TU 736IOK</td>\n",
       "      <td>0.0</td>\n",
       "    </tr>\n",
       "    <tr>\n",
       "      <th>4</th>\n",
       "      <td>train_id_4</td>\n",
       "      <td>2016-01-17</td>\n",
       "      <td>TU 0338</td>\n",
       "      <td>TUN</td>\n",
       "      <td>ALG</td>\n",
       "      <td>2016-01-17 14:30:00</td>\n",
       "      <td>2016-01-17 15.50.00</td>\n",
       "      <td>ATA</td>\n",
       "      <td>TU 320IMU</td>\n",
       "      <td>22.0</td>\n",
       "    </tr>\n",
       "    <tr>\n",
       "      <th>5</th>\n",
       "      <td>train_id_5</td>\n",
       "      <td>2016-01-17</td>\n",
       "      <td>TU 0283</td>\n",
       "      <td>TLS</td>\n",
       "      <td>TUN</td>\n",
       "      <td>2016-01-17 16:20:00</td>\n",
       "      <td>2016-01-17 18.15.00</td>\n",
       "      <td>ATA</td>\n",
       "      <td>TU 736IOP</td>\n",
       "      <td>53.0</td>\n",
       "    </tr>\n",
       "    <tr>\n",
       "      <th>6</th>\n",
       "      <td>train_id_6</td>\n",
       "      <td>2016-01-18</td>\n",
       "      <td>TU 0514</td>\n",
       "      <td>TUN</td>\n",
       "      <td>BCN</td>\n",
       "      <td>2016-01-18 07:15:00</td>\n",
       "      <td>2016-01-18 09.00.00</td>\n",
       "      <td>ATA</td>\n",
       "      <td>TU 32AIMH</td>\n",
       "      <td>10.0</td>\n",
       "    </tr>\n",
       "    <tr>\n",
       "      <th>7</th>\n",
       "      <td>train_id_7</td>\n",
       "      <td>2016-01-18</td>\n",
       "      <td>TU 0716</td>\n",
       "      <td>TUN</td>\n",
       "      <td>ORY</td>\n",
       "      <td>2016-01-18 07:35:00</td>\n",
       "      <td>2016-01-18 09.55.00</td>\n",
       "      <td>ATA</td>\n",
       "      <td>TU 32AIMI</td>\n",
       "      <td>15.0</td>\n",
       "    </tr>\n",
       "    <tr>\n",
       "      <th>8</th>\n",
       "      <td>train_id_8</td>\n",
       "      <td>2016-01-18</td>\n",
       "      <td>TU 0752</td>\n",
       "      <td>TUN</td>\n",
       "      <td>FCO</td>\n",
       "      <td>2016-01-18 07:40:00</td>\n",
       "      <td>2016-01-18 09.00.00</td>\n",
       "      <td>ATA</td>\n",
       "      <td>TU 32AIMC</td>\n",
       "      <td>16.0</td>\n",
       "    </tr>\n",
       "    <tr>\n",
       "      <th>9</th>\n",
       "      <td>train_id_9</td>\n",
       "      <td>2016-01-18</td>\n",
       "      <td>TU 0996</td>\n",
       "      <td>TUN</td>\n",
       "      <td>NCE</td>\n",
       "      <td>2016-01-18 07:45:00</td>\n",
       "      <td>2016-01-18 09.15.00</td>\n",
       "      <td>ATA</td>\n",
       "      <td>TU 31AIMK</td>\n",
       "      <td>21.0</td>\n",
       "    </tr>\n",
       "  </tbody>\n",
       "</table>\n",
       "</div>"
      ],
      "text/plain": [
       "           ID       DATOP     FLTID DEPSTN ARRSTN                  STD  \\\n",
       "0  train_id_0  2016-01-03  TU 0712     CMN    TUN  2016-01-03 10:30:00   \n",
       "1  train_id_1  2016-01-13  TU 0757     MXP    TUN  2016-01-13 15:05:00   \n",
       "2  train_id_2  2016-01-16  TU 0214     TUN    IST  2016-01-16 04:10:00   \n",
       "3  train_id_3  2016-01-17  TU 0480     DJE    NTE  2016-01-17 14:10:00   \n",
       "4  train_id_4  2016-01-17  TU 0338     TUN    ALG  2016-01-17 14:30:00   \n",
       "5  train_id_5  2016-01-17  TU 0283     TLS    TUN  2016-01-17 16:20:00   \n",
       "6  train_id_6  2016-01-18  TU 0514     TUN    BCN  2016-01-18 07:15:00   \n",
       "7  train_id_7  2016-01-18  TU 0716     TUN    ORY  2016-01-18 07:35:00   \n",
       "8  train_id_8  2016-01-18  TU 0752     TUN    FCO  2016-01-18 07:40:00   \n",
       "9  train_id_9  2016-01-18  TU 0996     TUN    NCE  2016-01-18 07:45:00   \n",
       "\n",
       "                   STA STATUS         AC  target  \n",
       "0  2016-01-03 12.55.00    ATA  TU 32AIMN   260.0  \n",
       "1  2016-01-13 16.55.00    ATA  TU 31BIMO    20.0  \n",
       "2  2016-01-16 06.45.00    ATA  TU 32AIMN     0.0  \n",
       "3  2016-01-17 17.00.00    ATA  TU 736IOK     0.0  \n",
       "4  2016-01-17 15.50.00    ATA  TU 320IMU    22.0  \n",
       "5  2016-01-17 18.15.00    ATA  TU 736IOP    53.0  \n",
       "6  2016-01-18 09.00.00    ATA  TU 32AIMH    10.0  \n",
       "7  2016-01-18 09.55.00    ATA  TU 32AIMI    15.0  \n",
       "8  2016-01-18 09.00.00    ATA  TU 32AIMC    16.0  \n",
       "9  2016-01-18 09.15.00    ATA  TU 31AIMK    21.0  "
      ]
     },
     "execution_count": 2,
     "metadata": {},
     "output_type": "execute_result"
    }
   ],
   "source": [
    "data = pd.read_csv('Train.csv')\n",
    "data.head(10)"
   ]
  },
  {
   "cell_type": "code",
   "execution_count": 3,
   "metadata": {},
   "outputs": [
    {
     "name": "stdout",
     "output_type": "stream",
     "text": [
      "ID column and duplicates dropped \n"
     ]
    }
   ],
   "source": [
    "#drop id column\n",
    "data.drop(labels = 'ID', axis = 1, inplace = True)\n",
    "\n",
    "#drop duplicates\n",
    "data.drop_duplicates(inplace=True)\n",
    "\n",
    "print('ID column and duplicates dropped ')"
   ]
  },
  {
   "cell_type": "code",
   "execution_count": 4,
   "metadata": {},
   "outputs": [],
   "source": [
    "# #import ploting libraries\n",
    "# import matplotlib.pyplot as plt\n",
    "# import seaborn as sns\n",
    "\n",
    "# plt.style.use('seaborn-dark')"
   ]
  },
  {
   "cell_type": "code",
   "execution_count": 5,
   "metadata": {},
   "outputs": [],
   "source": [
    "#create new pandas dataframe to hold engineered columns\n",
    "data_new = pd.DataFrame()"
   ]
  },
  {
   "cell_type": "markdown",
   "metadata": {},
   "source": [
    "**Column: DATOP**"
   ]
  },
  {
   "cell_type": "code",
   "execution_count": 6,
   "metadata": {},
   "outputs": [],
   "source": [
    "#engineer year,month and day variables from DATOP variable\n",
    "\n",
    "data_new['year'] = data['DATOP'].str.split('-').str[0]\n",
    "data_new['month'] = data['DATOP'].str.split('-').str[1]\n",
    "data_new['day'] = data['DATOP'].str.split('-').str[2]"
   ]
  },
  {
   "cell_type": "markdown",
   "metadata": {},
   "source": [
    "**Column: FLTID**"
   ]
  },
  {
   "cell_type": "code",
   "execution_count": 7,
   "metadata": {},
   "outputs": [
    {
     "data": {
      "text/plain": [
       "19"
      ]
     },
     "execution_count": 7,
     "metadata": {},
     "output_type": "execute_result"
    }
   ],
   "source": [
    "#engineer new feature from FLTID column\n",
    "\n",
    "data_new['flight_id'] = data['FLTID'].str.split(' ').str[0]\n",
    "\n",
    "#number of unique values \n",
    "len(data_new['flight_id'].value_counts())"
   ]
  },
  {
   "cell_type": "markdown",
   "metadata": {},
   "source": [
    "**Column: DEPSTN**"
   ]
  },
  {
   "cell_type": "code",
   "execution_count": 8,
   "metadata": {},
   "outputs": [
    {
     "data": {
      "text/plain": [
       "132"
      ]
     },
     "execution_count": 8,
     "metadata": {},
     "output_type": "execute_result"
    }
   ],
   "source": [
    "#copy DEPSTN column as it is \n",
    "data_new['departure_point'] = data['DEPSTN']\n",
    "\n",
    "#number of unique values in departure_point columns\n",
    "len(data_new['departure_point'].value_counts())"
   ]
  },
  {
   "cell_type": "markdown",
   "metadata": {},
   "source": [
    "**Column: ARRSTN**"
   ]
  },
  {
   "cell_type": "code",
   "execution_count": 9,
   "metadata": {},
   "outputs": [
    {
     "data": {
      "text/plain": [
       "128"
      ]
     },
     "execution_count": 9,
     "metadata": {},
     "output_type": "execute_result"
    }
   ],
   "source": [
    "#copy ARRSTN column as it is \n",
    "data_new['arrival_point'] = data['ARRSTN']\n",
    "\n",
    "#number of unique values in departure_point columns\n",
    "len(data_new['arrival_point'].value_counts())"
   ]
  },
  {
   "cell_type": "markdown",
   "metadata": {},
   "source": [
    "**NB :** There are fewer arrival points than departure points "
   ]
  },
  {
   "cell_type": "markdown",
   "metadata": {},
   "source": [
    "**Column: STD**"
   ]
  },
  {
   "cell_type": "code",
   "execution_count": 10,
   "metadata": {},
   "outputs": [],
   "source": [
    "#engineer departure hour and minute from STD column\n",
    "\n",
    "data_new['departure_hour'] = data['STD'].str.split(' ').str[1]\n",
    "data_new['departure_hour'] = data_new['departure_hour'].str.split(':').str[0]\n",
    "\n",
    "data_new['departure_minute'] = data['STD'].str.split(' ').str[1]\n",
    "data_new['departure_minute'] = data_new['departure_minute'].str.split(':').str[1]"
   ]
  },
  {
   "cell_type": "code",
   "execution_count": 11,
   "metadata": {},
   "outputs": [
    {
     "data": {
      "text/html": [
       "<div>\n",
       "<style scoped>\n",
       "    .dataframe tbody tr th:only-of-type {\n",
       "        vertical-align: middle;\n",
       "    }\n",
       "\n",
       "    .dataframe tbody tr th {\n",
       "        vertical-align: top;\n",
       "    }\n",
       "\n",
       "    .dataframe thead th {\n",
       "        text-align: right;\n",
       "    }\n",
       "</style>\n",
       "<table border=\"1\" class=\"dataframe\">\n",
       "  <thead>\n",
       "    <tr style=\"text-align: right;\">\n",
       "      <th></th>\n",
       "      <th>year</th>\n",
       "      <th>month</th>\n",
       "      <th>day</th>\n",
       "      <th>flight_id</th>\n",
       "      <th>departure_point</th>\n",
       "      <th>arrival_point</th>\n",
       "      <th>departure_hour</th>\n",
       "      <th>departure_minute</th>\n",
       "    </tr>\n",
       "  </thead>\n",
       "  <tbody>\n",
       "    <tr>\n",
       "      <th>0</th>\n",
       "      <td>2016</td>\n",
       "      <td>01</td>\n",
       "      <td>03</td>\n",
       "      <td>TU</td>\n",
       "      <td>CMN</td>\n",
       "      <td>TUN</td>\n",
       "      <td>10</td>\n",
       "      <td>30</td>\n",
       "    </tr>\n",
       "    <tr>\n",
       "      <th>1</th>\n",
       "      <td>2016</td>\n",
       "      <td>01</td>\n",
       "      <td>13</td>\n",
       "      <td>TU</td>\n",
       "      <td>MXP</td>\n",
       "      <td>TUN</td>\n",
       "      <td>15</td>\n",
       "      <td>05</td>\n",
       "    </tr>\n",
       "    <tr>\n",
       "      <th>2</th>\n",
       "      <td>2016</td>\n",
       "      <td>01</td>\n",
       "      <td>16</td>\n",
       "      <td>TU</td>\n",
       "      <td>TUN</td>\n",
       "      <td>IST</td>\n",
       "      <td>04</td>\n",
       "      <td>10</td>\n",
       "    </tr>\n",
       "    <tr>\n",
       "      <th>3</th>\n",
       "      <td>2016</td>\n",
       "      <td>01</td>\n",
       "      <td>17</td>\n",
       "      <td>TU</td>\n",
       "      <td>DJE</td>\n",
       "      <td>NTE</td>\n",
       "      <td>14</td>\n",
       "      <td>10</td>\n",
       "    </tr>\n",
       "    <tr>\n",
       "      <th>4</th>\n",
       "      <td>2016</td>\n",
       "      <td>01</td>\n",
       "      <td>17</td>\n",
       "      <td>TU</td>\n",
       "      <td>TUN</td>\n",
       "      <td>ALG</td>\n",
       "      <td>14</td>\n",
       "      <td>30</td>\n",
       "    </tr>\n",
       "  </tbody>\n",
       "</table>\n",
       "</div>"
      ],
      "text/plain": [
       "   year month day flight_id departure_point arrival_point departure_hour  \\\n",
       "0  2016    01  03        TU             CMN           TUN             10   \n",
       "1  2016    01  13        TU             MXP           TUN             15   \n",
       "2  2016    01  16        TU             TUN           IST             04   \n",
       "3  2016    01  17        TU             DJE           NTE             14   \n",
       "4  2016    01  17        TU             TUN           ALG             14   \n",
       "\n",
       "  departure_minute  \n",
       "0               30  \n",
       "1               05  \n",
       "2               10  \n",
       "3               10  \n",
       "4               30  "
      ]
     },
     "execution_count": 11,
     "metadata": {},
     "output_type": "execute_result"
    }
   ],
   "source": [
    "data_new.head()"
   ]
  },
  {
   "cell_type": "markdown",
   "metadata": {},
   "source": [
    "**Column: STA**"
   ]
  },
  {
   "cell_type": "code",
   "execution_count": 12,
   "metadata": {},
   "outputs": [],
   "source": [
    "#engineer arrival_hour and arrival_minute variables\n",
    "\n",
    "data_new['arrival_hour'] = data['STA'].str.split(' ').str[1]\n",
    "data_new['arrival_hour'] = data_new['arrival_hour'].str.split('.').str[0]\n",
    "\n",
    "data_new['arrival_minute'] = data['STA'].str.split(' ').str[1]\n",
    "data_new['arrival_minute'] = data_new['arrival_minute'].str.split('.').str[1]"
   ]
  },
  {
   "cell_type": "code",
   "execution_count": 13,
   "metadata": {},
   "outputs": [
    {
     "data": {
      "text/html": [
       "<div>\n",
       "<style scoped>\n",
       "    .dataframe tbody tr th:only-of-type {\n",
       "        vertical-align: middle;\n",
       "    }\n",
       "\n",
       "    .dataframe tbody tr th {\n",
       "        vertical-align: top;\n",
       "    }\n",
       "\n",
       "    .dataframe thead th {\n",
       "        text-align: right;\n",
       "    }\n",
       "</style>\n",
       "<table border=\"1\" class=\"dataframe\">\n",
       "  <thead>\n",
       "    <tr style=\"text-align: right;\">\n",
       "      <th></th>\n",
       "      <th>year</th>\n",
       "      <th>month</th>\n",
       "      <th>day</th>\n",
       "      <th>flight_id</th>\n",
       "      <th>departure_point</th>\n",
       "      <th>arrival_point</th>\n",
       "      <th>departure_hour</th>\n",
       "      <th>departure_minute</th>\n",
       "      <th>arrival_hour</th>\n",
       "      <th>arrival_minute</th>\n",
       "    </tr>\n",
       "  </thead>\n",
       "  <tbody>\n",
       "    <tr>\n",
       "      <th>0</th>\n",
       "      <td>2016</td>\n",
       "      <td>01</td>\n",
       "      <td>03</td>\n",
       "      <td>TU</td>\n",
       "      <td>CMN</td>\n",
       "      <td>TUN</td>\n",
       "      <td>10</td>\n",
       "      <td>30</td>\n",
       "      <td>12</td>\n",
       "      <td>55</td>\n",
       "    </tr>\n",
       "    <tr>\n",
       "      <th>1</th>\n",
       "      <td>2016</td>\n",
       "      <td>01</td>\n",
       "      <td>13</td>\n",
       "      <td>TU</td>\n",
       "      <td>MXP</td>\n",
       "      <td>TUN</td>\n",
       "      <td>15</td>\n",
       "      <td>05</td>\n",
       "      <td>16</td>\n",
       "      <td>55</td>\n",
       "    </tr>\n",
       "    <tr>\n",
       "      <th>2</th>\n",
       "      <td>2016</td>\n",
       "      <td>01</td>\n",
       "      <td>16</td>\n",
       "      <td>TU</td>\n",
       "      <td>TUN</td>\n",
       "      <td>IST</td>\n",
       "      <td>04</td>\n",
       "      <td>10</td>\n",
       "      <td>06</td>\n",
       "      <td>45</td>\n",
       "    </tr>\n",
       "    <tr>\n",
       "      <th>3</th>\n",
       "      <td>2016</td>\n",
       "      <td>01</td>\n",
       "      <td>17</td>\n",
       "      <td>TU</td>\n",
       "      <td>DJE</td>\n",
       "      <td>NTE</td>\n",
       "      <td>14</td>\n",
       "      <td>10</td>\n",
       "      <td>17</td>\n",
       "      <td>00</td>\n",
       "    </tr>\n",
       "    <tr>\n",
       "      <th>4</th>\n",
       "      <td>2016</td>\n",
       "      <td>01</td>\n",
       "      <td>17</td>\n",
       "      <td>TU</td>\n",
       "      <td>TUN</td>\n",
       "      <td>ALG</td>\n",
       "      <td>14</td>\n",
       "      <td>30</td>\n",
       "      <td>15</td>\n",
       "      <td>50</td>\n",
       "    </tr>\n",
       "  </tbody>\n",
       "</table>\n",
       "</div>"
      ],
      "text/plain": [
       "   year month day flight_id departure_point arrival_point departure_hour  \\\n",
       "0  2016    01  03        TU             CMN           TUN             10   \n",
       "1  2016    01  13        TU             MXP           TUN             15   \n",
       "2  2016    01  16        TU             TUN           IST             04   \n",
       "3  2016    01  17        TU             DJE           NTE             14   \n",
       "4  2016    01  17        TU             TUN           ALG             14   \n",
       "\n",
       "  departure_minute arrival_hour arrival_minute  \n",
       "0               30           12             55  \n",
       "1               05           16             55  \n",
       "2               10           06             45  \n",
       "3               10           17             00  \n",
       "4               30           15             50  "
      ]
     },
     "execution_count": 13,
     "metadata": {},
     "output_type": "execute_result"
    }
   ],
   "source": [
    "data_new.head()"
   ]
  },
  {
   "cell_type": "markdown",
   "metadata": {},
   "source": [
    "**Column: STATUS**"
   ]
  },
  {
   "cell_type": "code",
   "execution_count": 14,
   "metadata": {},
   "outputs": [
    {
     "data": {
      "text/plain": [
       "5"
      ]
     },
     "execution_count": 14,
     "metadata": {},
     "output_type": "execute_result"
    }
   ],
   "source": [
    "#check number of unique values in status column\n",
    "len(data['STATUS'].value_counts())"
   ]
  },
  {
   "cell_type": "code",
   "execution_count": 16,
   "metadata": {},
   "outputs": [],
   "source": [
    "data_new['flight_status'] = data['STATUS']"
   ]
  },
  {
   "cell_type": "markdown",
   "metadata": {},
   "source": [
    "**Column: AC**"
   ]
  },
  {
   "cell_type": "code",
   "execution_count": 21,
   "metadata": {},
   "outputs": [
    {
     "data": {
      "text/html": [
       "<div>\n",
       "<style scoped>\n",
       "    .dataframe tbody tr th:only-of-type {\n",
       "        vertical-align: middle;\n",
       "    }\n",
       "\n",
       "    .dataframe tbody tr th {\n",
       "        vertical-align: top;\n",
       "    }\n",
       "\n",
       "    .dataframe thead th {\n",
       "        text-align: right;\n",
       "    }\n",
       "</style>\n",
       "<table border=\"1\" class=\"dataframe\">\n",
       "  <thead>\n",
       "    <tr style=\"text-align: right;\">\n",
       "      <th></th>\n",
       "      <th>year</th>\n",
       "      <th>month</th>\n",
       "      <th>day</th>\n",
       "      <th>flight_id</th>\n",
       "      <th>departure_point</th>\n",
       "      <th>arrival_point</th>\n",
       "      <th>departure_hour</th>\n",
       "      <th>departure_minute</th>\n",
       "      <th>arrival_hour</th>\n",
       "      <th>arrival_minute</th>\n",
       "      <th>flight_status</th>\n",
       "      <th>aircraft_code</th>\n",
       "    </tr>\n",
       "  </thead>\n",
       "  <tbody>\n",
       "    <tr>\n",
       "      <th>0</th>\n",
       "      <td>2016</td>\n",
       "      <td>01</td>\n",
       "      <td>03</td>\n",
       "      <td>TU</td>\n",
       "      <td>CMN</td>\n",
       "      <td>TUN</td>\n",
       "      <td>10</td>\n",
       "      <td>30</td>\n",
       "      <td>12</td>\n",
       "      <td>55</td>\n",
       "      <td>ATA</td>\n",
       "      <td>TU</td>\n",
       "    </tr>\n",
       "    <tr>\n",
       "      <th>1</th>\n",
       "      <td>2016</td>\n",
       "      <td>01</td>\n",
       "      <td>13</td>\n",
       "      <td>TU</td>\n",
       "      <td>MXP</td>\n",
       "      <td>TUN</td>\n",
       "      <td>15</td>\n",
       "      <td>05</td>\n",
       "      <td>16</td>\n",
       "      <td>55</td>\n",
       "      <td>ATA</td>\n",
       "      <td>TU</td>\n",
       "    </tr>\n",
       "    <tr>\n",
       "      <th>2</th>\n",
       "      <td>2016</td>\n",
       "      <td>01</td>\n",
       "      <td>16</td>\n",
       "      <td>TU</td>\n",
       "      <td>TUN</td>\n",
       "      <td>IST</td>\n",
       "      <td>04</td>\n",
       "      <td>10</td>\n",
       "      <td>06</td>\n",
       "      <td>45</td>\n",
       "      <td>ATA</td>\n",
       "      <td>TU</td>\n",
       "    </tr>\n",
       "    <tr>\n",
       "      <th>3</th>\n",
       "      <td>2016</td>\n",
       "      <td>01</td>\n",
       "      <td>17</td>\n",
       "      <td>TU</td>\n",
       "      <td>DJE</td>\n",
       "      <td>NTE</td>\n",
       "      <td>14</td>\n",
       "      <td>10</td>\n",
       "      <td>17</td>\n",
       "      <td>00</td>\n",
       "      <td>ATA</td>\n",
       "      <td>TU</td>\n",
       "    </tr>\n",
       "    <tr>\n",
       "      <th>4</th>\n",
       "      <td>2016</td>\n",
       "      <td>01</td>\n",
       "      <td>17</td>\n",
       "      <td>TU</td>\n",
       "      <td>TUN</td>\n",
       "      <td>ALG</td>\n",
       "      <td>14</td>\n",
       "      <td>30</td>\n",
       "      <td>15</td>\n",
       "      <td>50</td>\n",
       "      <td>ATA</td>\n",
       "      <td>TU</td>\n",
       "    </tr>\n",
       "  </tbody>\n",
       "</table>\n",
       "</div>"
      ],
      "text/plain": [
       "   year month day flight_id departure_point arrival_point departure_hour  \\\n",
       "0  2016    01  03        TU             CMN           TUN             10   \n",
       "1  2016    01  13        TU             MXP           TUN             15   \n",
       "2  2016    01  16        TU             TUN           IST             04   \n",
       "3  2016    01  17        TU             DJE           NTE             14   \n",
       "4  2016    01  17        TU             TUN           ALG             14   \n",
       "\n",
       "  departure_minute arrival_hour arrival_minute flight_status aircraft_code  \n",
       "0               30           12             55           ATA            TU  \n",
       "1               05           16             55           ATA            TU  \n",
       "2               10           06             45           ATA            TU  \n",
       "3               10           17             00           ATA            TU  \n",
       "4               30           15             50           ATA            TU  "
      ]
     },
     "execution_count": 21,
     "metadata": {},
     "output_type": "execute_result"
    }
   ],
   "source": [
    "#engineer new feature from first two letters of AC column\n",
    "\n",
    "data_new['aircraft_code'] = data['AC'].str.split(' ').str[0]\n",
    "data_new.head()"
   ]
  },
  {
   "cell_type": "markdown",
   "metadata": {},
   "source": [
    "**Column: target**"
   ]
  },
  {
   "cell_type": "code",
   "execution_count": 23,
   "metadata": {},
   "outputs": [
    {
     "data": {
      "text/plain": [
       "count    107833.000000\n",
       "mean         48.733013\n",
       "std         117.135562\n",
       "min           0.000000\n",
       "25%           0.000000\n",
       "50%          14.000000\n",
       "75%          43.000000\n",
       "max        3451.000000\n",
       "Name: target, dtype: float64"
      ]
     },
     "execution_count": 23,
     "metadata": {},
     "output_type": "execute_result"
    }
   ],
   "source": [
    "data['target'].describe()"
   ]
  },
  {
   "cell_type": "code",
   "execution_count": 25,
   "metadata": {},
   "outputs": [
    {
     "data": {
      "text/plain": [
       "{'whiskers': [<matplotlib.lines.Line2D at 0x7f22aa6dd3a0>,\n",
       "  <matplotlib.lines.Line2D at 0x7f22aa6dd700>],\n",
       " 'caps': [<matplotlib.lines.Line2D at 0x7f22aa6dda60>,\n",
       "  <matplotlib.lines.Line2D at 0x7f22aa6dddc0>],\n",
       " 'boxes': [<matplotlib.lines.Line2D at 0x7f22aa6dd040>],\n",
       " 'medians': [<matplotlib.lines.Line2D at 0x7f22a8669160>],\n",
       " 'fliers': [<matplotlib.lines.Line2D at 0x7f22a86694c0>],\n",
       " 'means': []}"
      ]
     },
     "execution_count": 25,
     "metadata": {},
     "output_type": "execute_result"
    },
    {
     "data": {
      "image/png": "[encoded data removed]",
      "text/plain": [
       "<Figure size 432x288 with 1 Axes>"
      ]
     },
     "metadata": {
      "needs_background": "light"
     },
     "output_type": "display_data"
    }
   ],
   "source": [
    "import matplotlib.pyplot as plt\n",
    "\n",
    "plt.boxplot(data['target'])"
   ]
  },
  {
   "cell_type": "markdown",
   "metadata": {},
   "source": [
    "**NB: From the description of the target variable, it is apparent that outliers exist and they would have to be removed inorder to build a useful model. Connsequently, we could binarize the target variable to get flights that were delayed and those that were not** "
   ]
  },
  {
   "cell_type": "code",
   "execution_count": 29,
   "metadata": {},
   "outputs": [],
   "source": [
    "#remove outliers using zscores\n",
    "from scipy import stats\n",
    "import numpy as np\n",
    "\n",
    "data_new['target'] = data['target']\n",
    "\n",
    "#get zscores of target variable\n",
    "z_scores = stats.zscore(data['target'])\n",
    "#get absolute values of target variable\n",
    "abs_z_scores = np.abs(z_scores)\n",
    "#filter dataframe\n",
    "filtered_enteries = (abs_z_scores < 3)\n",
    "new_df = data_new[filtered_enteries]"
   ]
  },
  {
   "cell_type": "code",
   "execution_count": 52,
   "metadata": {},
   "outputs": [
    {
     "name": "stdout",
     "output_type": "stream",
     "text": [
      "<class 'pandas.core.frame.DataFrame'>\n",
      "Int64Index: 105894 entries, 0 to 107832\n",
      "Data columns (total 13 columns):\n",
      " #   Column            Non-Null Count   Dtype  \n",
      "---  ------            --------------   -----  \n",
      " 0   year              105894 non-null  int64  \n",
      " 1   month             105894 non-null  int64  \n",
      " 2   day               105894 non-null  int64  \n",
      " 3   flight_id         105894 non-null  object \n",
      " 4   departure_point   105894 non-null  object \n",
      " 5   arrival_point     105894 non-null  object \n",
      " 6   departure_hour    105894 non-null  int64  \n",
      " 7   departure_minute  105894 non-null  int64  \n",
      " 8   arrival_hour      105894 non-null  int64  \n",
      " 9   arrival_minute    105894 non-null  int64  \n",
      " 10  flight_status     105894 non-null  object \n",
      " 11  aircraft_code     105894 non-null  object \n",
      " 12  target            105894 non-null  float64\n",
      "dtypes: float64(1), int64(7), object(5)\n",
      "memory usage: 11.3+ MB\n"
     ]
    }
   ],
   "source": [
    "new_df.info()"
   ]
  },
  {
   "cell_type": "code",
   "execution_count": 51,
   "metadata": {},
   "outputs": [],
   "source": [
    "#Typecasting\n",
    "new_df['year'] = new_df['year'].astype(int)\n",
    "new_df['month'] = new_df['month'].astype(int)\n",
    "new_df['day'] = new_df['day'].astype(int)\n",
    "new_df['departure_hour'] = new_df['departure_hour'].astype(int)\n",
    "new_df['departure_minute'] = new_df['departure_minute'].astype(int)\n",
    "new_df['arrival_hour'] = new_df['arrival_hour'].astype(int)\n",
    "new_df['arrival_minute'] = new_df['arrival_minute'].astype(int)\n",
    "new_df['target'] = new_df['target'].astype(int)"
   ]
  },
  {
   "cell_type": "code",
   "execution_count": null,
   "metadata": {},
   "outputs": [],
   "source": [
    "#encode categorical variables\n",
    "cat_vars = new_df.select_dtypes(include=object)"
   ]
  }
 ],
 "metadata": {
  "kernelspec": {
   "display_name": "Python 3",
   "language": "python",
   "name": "python3"
  },
  "language_info": {
   "codemirror_mode": {
    "name": "ipython",
    "version": 3
   },
   "file_extension": ".py",
   "mimetype": "text/x-python",
   "name": "python",
   "nbconvert_exporter": "python",
   "pygments_lexer": "ipython3",
   "version": "3.8.5"
  }
 },
 "nbformat": 4,
 "nbformat_minor": 4
}
